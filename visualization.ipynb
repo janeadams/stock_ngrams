{
 "cells": [
  {
   "cell_type": "markdown",
   "metadata": {
    "toc": true
   },
   "source": [
    "<h1>Table of Contents<span class=\"tocSkip\"></span></h1>\n",
    "<div class=\"toc\"><ul class=\"toc-item\"></ul></div>"
   ]
  },
  {
   "cell_type": "code",
   "execution_count": 1,
   "metadata": {},
   "outputs": [],
   "source": [
    "from dotenv import load_dotenv\n",
    "load_dotenv()\n",
    "import os\n",
    "import pandas as pd\n",
    "import requests\n",
    "import json\n",
    "import numpy as np\n",
    "from datetime import date\n",
    "import alpha_vantage\n",
    "from alpha_vantage.timeseries import TimeSeries\n",
    "import plotly.graph_objects as go\n",
    "import plotly.io as pio\n",
    "pio.templates\n",
    "from plotly.subplots import make_subplots\n",
    "import dash\n",
    "import dash_core_components as dcc\n",
    "import dash_html_components as html\n",
    "from dash.dependencies import Input, Output"
   ]
  },
  {
   "cell_type": "code",
   "execution_count": 2,
   "metadata": {},
   "outputs": [],
   "source": [
    "nyse = pd.read_csv('NYSE.tsv', delimiter='\\t')\n",
    "nasdaq = pd.read_csv('NASDAQ.tsv', delimiter='\\t')"
   ]
  },
  {
   "cell_type": "code",
   "execution_count": 3,
   "metadata": {},
   "outputs": [],
   "source": [
    "tickers = nyse.append(nasdaq).drop_duplicates()"
   ]
  },
  {
   "cell_type": "code",
   "execution_count": 4,
   "metadata": {},
   "outputs": [],
   "source": [
    "symbols = list(tickers['Symbol'])"
   ]
  },
  {
   "cell_type": "code",
   "execution_count": 5,
   "metadata": {},
   "outputs": [],
   "source": [
    "api = os.getenv(\"API\")\n",
    "ts = TimeSeries(key=api)"
   ]
  },
  {
   "cell_type": "code",
   "execution_count": 6,
   "metadata": {},
   "outputs": [],
   "source": [
    "stat_options = ['1. open', '2. high', '3. low', '4. close', '5. volume']"
   ]
  },
  {
   "cell_type": "code",
   "execution_count": 7,
   "metadata": {},
   "outputs": [],
   "source": [
    "def get_stock(stock, stat):\n",
    "    path= f'stock/{stock}.csv'\n",
    "    if not os.path.isfile(path):\n",
    "        print(f'Getting API stock data for {stock}')\n",
    "        data, meta_data = ts.get_weekly(stock)\n",
    "        timeseries = {}\n",
    "        for date, vals in data.items():\n",
    "            timeseries[date]=vals\n",
    "        df = pd.DataFrame.from_dict(timeseries).T\n",
    "        df.to_csv(path)\n",
    "    else:\n",
    "        print(f'Loading cached stock data for {stock}')\n",
    "        df = pd.read_csv(path, index_col=0)\n",
    "    return df"
   ]
  },
  {
   "cell_type": "code",
   "execution_count": 8,
   "metadata": {},
   "outputs": [],
   "source": [
    "def get_ngram(stock):\n",
    "    path= f'ngram/{stock}.csv'\n",
    "    if not os.path.isfile(path):\n",
    "        print(f'Getting API Ngram data for {stock}')\n",
    "        query = f'${stock}'\n",
    "        r = requests.get(f\"https://storywrangling.org/api/{query}?language=en&metric=freq\").json()\n",
    "        df = pd.DataFrame(r['ngramdata'][r['ngrams'][0]]['data'], columns=['date','freq']).set_index(['date'])\n",
    "        df.index = pd.to_datetime(df.index,format='%Y-%m-%d')\n",
    "        # df['freq']=[np.log(f) for f in df['freq']] # Convert to log-freq\n",
    "        df.to_csv(path)\n",
    "    else:\n",
    "        print(f'Loading cached ngram data for {stock}')\n",
    "        df = pd.read_csv(path, index_col=0)\n",
    "    return df"
   ]
  },
  {
   "cell_type": "code",
   "execution_count": 9,
   "metadata": {},
   "outputs": [],
   "source": [
    "def name_lookup(stock):\n",
    "    return tickers[tickers.Symbol==stock].Description.values[0]"
   ]
  },
  {
   "cell_type": "code",
   "execution_count": 10,
   "metadata": {},
   "outputs": [],
   "source": [
    "def draw_timeseries(stock, stat):\n",
    "    fig = make_subplots(rows=3, cols=1, specs=[[{\"secondary_y\": True}],[{}],[{}]], subplot_titles=(f'Stock {stat[3:].title()} vs. Ngram Freq', f'{stock} Stock {stat[3:].title()}', f'Ngram Freq of \"${stock}\"'))\n",
    "    try:\n",
    "        stock_data = get_stock(stock, stat)\n",
    "        fig.add_trace(go.Scatter(x=stock_data.index, y=stock_data[stat], name=(f'{stock}: {stat[3:].title()}'), opacity=.5, line=dict(color='green', width=2)), secondary_y=False, row=1, col=1)\n",
    "        fig.add_trace(go.Scatter(x=stock_data.index, y=stock_data[stat], name=(f'{stock}: {stat[3:].title()}'), line=dict(color='green', width=2)), row=3, col=1)\n",
    "    except:\n",
    "        print(f'Could not find stock data for {stock}')\n",
    "    try:\n",
    "        ngram_data = get_ngram(stock)\n",
    "        fig.add_trace(go.Scatter(x=ngram_data.index, y=ngram_data.freq, name=(f'${stock}: Ngram Freq'), opacity=.5, line=dict(color='orange', width=2)), secondary_y=True, row=1, col=1)\n",
    "        fig.add_trace(go.Scatter(x=ngram_data.index, y=ngram_data.freq, name=(f'${stock}: Ngram Freq'), line=dict(color='orange', width=2)), row=2, col=1)\n",
    "    except:\n",
    "        print(f'Could not find ngram data for ${stock}')\n",
    "    fig.update_layout(title_text=f'Stock & Ngram Data for {name_lookup(stock)} ({stock})', template='plotly_white',showlegend=False,height=1000)\n",
    "    fig.update_xaxes(range=[np.datetime64(date(2010,1,1)), np.datetime64(date(2020,8,1))])\n",
    "    return fig"
   ]
  },
  {
   "cell_type": "code",
   "execution_count": 11,
   "metadata": {
    "scrolled": false
   },
   "outputs": [],
   "source": [
    "#draw_timeseries('GOOG', '5. volume')"
   ]
  },
  {
   "cell_type": "code",
   "execution_count": 12,
   "metadata": {},
   "outputs": [],
   "source": [
    "stock_options = []\n",
    "for name, symbol in dict(zip(tickers.Description, tickers.Symbol)).items():\n",
    "    stock_options.append({'label':str(f'{name} ({symbol})'), 'value':str(symbol)})"
   ]
  },
  {
   "cell_type": "code",
   "execution_count": null,
   "metadata": {},
   "outputs": [
    {
     "name": "stdout",
     "output_type": "stream",
     "text": [
      "Loading cached stock data for AAPL\n",
      "Loading cached ngram data for AAPL\n",
      "Running on http://127.0.0.1:8050/\n",
      "Debugger PIN: 940-164-840\n",
      " * Serving Flask app \"__main__\" (lazy loading)\n",
      " * Environment: production\n",
      "\u001b[31m   WARNING: This is a development server. Do not use it in a production deployment.\u001b[0m\n",
      "\u001b[2m   Use a production WSGI server instead.\u001b[0m\n",
      " * Debug mode: on\n",
      "Loading cached stock data for AAPL\n",
      "Loading cached ngram data for AAPL\n",
      "Loading cached stock data for AAPL\n",
      "Loading cached ngram data for AAPL\n",
      "Loading cached stock data for AAPL\n",
      "Loading cached ngram data for AAPL\n",
      "Loading cached stock data for AAPL\n",
      "Loading cached ngram data for AAPL\n"
     ]
    }
   ],
   "source": [
    "app = dash.Dash()\n",
    "app.layout = html.Div([\n",
    "    dcc.Dropdown(\n",
    "        id='stock-dropdown',\n",
    "        options=stock_options,\n",
    "        value='AAPL'\n",
    "    ),\n",
    "    dcc.Dropdown(\n",
    "        id='stat-dropdown',\n",
    "        options=[\n",
    "            {'label': 'Open', 'value': '1. open'},\n",
    "            {'label': 'High', 'value': '2. high'},\n",
    "            {'label': 'Low', 'value': '3. low'},\n",
    "            {'label': 'Close', 'value': '4. close'},\n",
    "            {'label': 'Volume', 'value': '5. volume'}\n",
    "        ],\n",
    "        value='5. volume'\n",
    "    ),\n",
    "    dcc.Graph(id='timeseries-graph', figure=draw_timeseries('AAPL', '5. volume'))\n",
    "])\n",
    "\n",
    "@app.callback(\n",
    "    Output('timeseries-graph', 'figure'),\n",
    "    [Input('stock-dropdown', 'value'), Input('stat-dropdown', 'value')])\n",
    "def update_figure(stock, stat):\n",
    "    return draw_timeseries(stock, stat)\n",
    "\n",
    "app.run_server(debug=True, use_reloader=False)  # Turn off reloader if inside Jupyter"
   ]
  }
 ],
 "metadata": {
  "kernelspec": {
   "display_name": "Python 3",
   "language": "python",
   "name": "python3"
  },
  "language_info": {
   "codemirror_mode": {
    "name": "ipython",
    "version": 3
   },
   "file_extension": ".py",
   "mimetype": "text/x-python",
   "name": "python",
   "nbconvert_exporter": "python",
   "pygments_lexer": "ipython3",
   "version": "3.7.7"
  },
  "toc": {
   "base_numbering": 1,
   "nav_menu": {},
   "number_sections": true,
   "sideBar": true,
   "skip_h1_title": false,
   "title_cell": "Table of Contents",
   "title_sidebar": "Contents",
   "toc_cell": true,
   "toc_position": {},
   "toc_section_display": true,
   "toc_window_display": true
  }
 },
 "nbformat": 4,
 "nbformat_minor": 4
}
